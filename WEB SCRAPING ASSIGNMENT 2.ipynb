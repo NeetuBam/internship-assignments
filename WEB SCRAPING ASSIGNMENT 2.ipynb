{
 "cells": [
  {
   "cell_type": "markdown",
   "id": "ae6d45b2",
   "metadata": {},
   "source": [
    "# WEB SCRAPING ASSIGNMENT 2"
   ]
  },
  {
   "cell_type": "markdown",
   "id": "3d82bee4",
   "metadata": {},
   "source": [
    "BATCH NO-DS0622\n",
    "NEETU BAM\n",
    "neetu.k.bam@gmail.com"
   ]
  },
  {
   "cell_type": "markdown",
   "id": "b5a9d022",
   "metadata": {},
   "source": [
    "# ANSWER NO-1"
   ]
  },
  {
   "cell_type": "code",
   "execution_count": 46,
   "id": "f937b948",
   "metadata": {},
   "outputs": [
    {
     "name": "stdout",
     "output_type": "stream",
     "text": [
      "Defaulting to user installation because normal site-packages is not writeable\n",
      "Requirement already satisfied: selenium in c:\\users\\neetu\\appdata\\roaming\\python\\python39\\site-packages (4.7.2)\n",
      "Requirement already satisfied: urllib3[socks]~=1.26 in c:\\programdata\\anaconda3\\lib\\site-packages (from selenium) (1.26.9)\n",
      "Requirement already satisfied: certifi>=2021.10.8 in c:\\programdata\\anaconda3\\lib\\site-packages (from selenium) (2021.10.8)\n",
      "Requirement already satisfied: trio-websocket~=0.9 in c:\\users\\neetu\\appdata\\roaming\\python\\python39\\site-packages (from selenium) (0.9.2)\n",
      "Requirement already satisfied: trio~=0.17 in c:\\users\\neetu\\appdata\\roaming\\python\\python39\\site-packages (from selenium) (0.22.0)\n",
      "Requirement already satisfied: cffi>=1.14 in c:\\programdata\\anaconda3\\lib\\site-packages (from trio~=0.17->selenium) (1.15.0)\n",
      "Requirement already satisfied: exceptiongroup>=1.0.0rc9 in c:\\users\\neetu\\appdata\\roaming\\python\\python39\\site-packages (from trio~=0.17->selenium) (1.0.4)\n",
      "Requirement already satisfied: sniffio in c:\\programdata\\anaconda3\\lib\\site-packages (from trio~=0.17->selenium) (1.2.0)\n",
      "Requirement already satisfied: async-generator>=1.9 in c:\\users\\neetu\\appdata\\roaming\\python\\python39\\site-packages (from trio~=0.17->selenium) (1.10)\n",
      "Requirement already satisfied: outcome in c:\\users\\neetu\\appdata\\roaming\\python\\python39\\site-packages (from trio~=0.17->selenium) (1.2.0)\n",
      "Requirement already satisfied: sortedcontainers in c:\\programdata\\anaconda3\\lib\\site-packages (from trio~=0.17->selenium) (2.4.0)\n",
      "Requirement already satisfied: idna in c:\\programdata\\anaconda3\\lib\\site-packages (from trio~=0.17->selenium) (3.3)\n",
      "Requirement already satisfied: attrs>=19.2.0 in c:\\programdata\\anaconda3\\lib\\site-packages (from trio~=0.17->selenium) (21.4.0)\n",
      "Requirement already satisfied: pycparser in c:\\programdata\\anaconda3\\lib\\site-packages (from cffi>=1.14->trio~=0.17->selenium) (2.21)\n",
      "Requirement already satisfied: wsproto>=0.14 in c:\\users\\neetu\\appdata\\roaming\\python\\python39\\site-packages (from trio-websocket~=0.9->selenium) (1.2.0)\n",
      "Requirement already satisfied: PySocks!=1.5.7,<2.0,>=1.5.6 in c:\\programdata\\anaconda3\\lib\\site-packages (from urllib3[socks]~=1.26->selenium) (1.7.1)\n",
      "Requirement already satisfied: h11<1,>=0.9.0 in c:\\users\\neetu\\appdata\\roaming\\python\\python39\\site-packages (from wsproto>=0.14->trio-websocket~=0.9->selenium) (0.14.0)\n"
     ]
    }
   ],
   "source": [
    "!pip install selenium"
   ]
  },
  {
   "cell_type": "code",
   "execution_count": 7,
   "id": "548ee9d5",
   "metadata": {},
   "outputs": [],
   "source": [
    "import selenium\n",
    "import pandas as pd\n",
    "from selenium import webdriver\n",
    "import warnings\n",
    "warnings.filterwarnings('ignore')\n",
    "from selenium.webdriver.common.by import By\n",
    "import time"
   ]
  },
  {
   "cell_type": "code",
   "execution_count": 8,
   "id": "9ce5f51b",
   "metadata": {},
   "outputs": [],
   "source": [
    "#first connect to the webdriver\n",
    "driver=webdriver.Chrome(r\"C:\\Users\\neetu\\Downloads\\chromedriver_win32\\chromedriver.exe\")"
   ]
  },
  {
   "cell_type": "code",
   "execution_count": 9,
   "id": "722b14d8",
   "metadata": {},
   "outputs": [],
   "source": [
    "driver.get(\"https://www.naukri.com/\")"
   ]
  },
  {
   "cell_type": "code",
   "execution_count": 11,
   "id": "c0d97d83",
   "metadata": {},
   "outputs": [],
   "source": [
    "designation=driver.find_element(By.CLASS_NAME,\"suggestor-input\")\n",
    "designation.send_keys('Data Analyst')"
   ]
  },
  {
   "cell_type": "code",
   "execution_count": 13,
   "id": "e2b99908",
   "metadata": {},
   "outputs": [],
   "source": [
    "location=driver.find_element(By.XPATH,\"/html/body/div[1]/div[6]/div/div/div[5]/div/div/div/input\")\n",
    "location.send_keys('Bangalore')"
   ]
  },
  {
   "cell_type": "code",
   "execution_count": 14,
   "id": "c55700bc",
   "metadata": {},
   "outputs": [],
   "source": [
    "search=driver.find_element(By.CLASS_NAME,\"qsbSubmit\")\n",
    "search.click()"
   ]
  },
  {
   "cell_type": "code",
   "execution_count": 15,
   "id": "4d7fc239",
   "metadata": {},
   "outputs": [],
   "source": [
    "job_title=[]\n",
    "job_location=[]\n",
    "company_name=[]\n",
    "experience_required=[]"
   ]
  },
  {
   "cell_type": "code",
   "execution_count": 17,
   "id": "aebdd830",
   "metadata": {},
   "outputs": [],
   "source": [
    "title_tags=driver.find_elements(By.XPATH,\"//a[@class='title fw500 ellipsis']\")\n",
    "for i in title_tags[0:10]:\n",
    "    title=i.text\n",
    "    job_title.append(title)"
   ]
  },
  {
   "cell_type": "code",
   "execution_count": 18,
   "id": "69700e40",
   "metadata": {},
   "outputs": [],
   "source": [
    "#scraping job location\n",
    "location_tags=driver.find_elements(By.XPATH,\"//li[@class='fleft grey-text br2 placeHolderLi location']\")\n",
    "for i in location_tags[0:10]:\n",
    "    location=i.text\n",
    "    job_location.append(location)"
   ]
  },
  {
   "cell_type": "code",
   "execution_count": 19,
   "id": "57917cc9",
   "metadata": {},
   "outputs": [],
   "source": [
    "#scraping company name\n",
    "company_tags=driver.find_elements(By.XPATH,\"//a[@class='subTitle ellipsis fleft']\")\n",
    "for i in company_tags[0:10]:\n",
    "    company=i.text\n",
    "    company_name.append(company)"
   ]
  },
  {
   "cell_type": "code",
   "execution_count": 20,
   "id": "88b80fb0",
   "metadata": {},
   "outputs": [],
   "source": [
    "#scraping job experience\n",
    "experience_tags=driver.find_elements(By.XPATH,\"//li[@class='fleft grey-text br2 placeHolderLi experience']//span\")\n",
    "for i in experience_tags[0:10]:\n",
    "    exp=i.text\n",
    "    experience_required.append(exp)"
   ]
  },
  {
   "cell_type": "code",
   "execution_count": 21,
   "id": "848cf320",
   "metadata": {},
   "outputs": [
    {
     "name": "stdout",
     "output_type": "stream",
     "text": [
      "10 10 10 10\n"
     ]
    }
   ],
   "source": [
    "#check the length\n",
    "print(len(job_title),len(job_location),len(company_name),len(experience_required))"
   ]
  },
  {
   "cell_type": "code",
   "execution_count": 22,
   "id": "f3c131f2",
   "metadata": {},
   "outputs": [
    {
     "data": {
      "text/html": [
       "<div>\n",
       "<style scoped>\n",
       "    .dataframe tbody tr th:only-of-type {\n",
       "        vertical-align: middle;\n",
       "    }\n",
       "\n",
       "    .dataframe tbody tr th {\n",
       "        vertical-align: top;\n",
       "    }\n",
       "\n",
       "    .dataframe thead th {\n",
       "        text-align: right;\n",
       "    }\n",
       "</style>\n",
       "<table border=\"1\" class=\"dataframe\">\n",
       "  <thead>\n",
       "    <tr style=\"text-align: right;\">\n",
       "      <th></th>\n",
       "      <th>Job_title</th>\n",
       "      <th>Job_Location</th>\n",
       "      <th>Company_Name</th>\n",
       "      <th>Exp_required</th>\n",
       "    </tr>\n",
       "  </thead>\n",
       "  <tbody>\n",
       "    <tr>\n",
       "      <th>0</th>\n",
       "      <td>Associate Healthcare Research and Data Analyst</td>\n",
       "      <td>Bangalore/Bengaluru</td>\n",
       "      <td>Clarivate</td>\n",
       "      <td>0-2 Yrs</td>\n",
       "    </tr>\n",
       "    <tr>\n",
       "      <th>1</th>\n",
       "      <td>Data Analyst</td>\n",
       "      <td>Bangalore/Bengaluru</td>\n",
       "      <td>Shell Pvt Ltd</td>\n",
       "      <td>2-5 Yrs</td>\n",
       "    </tr>\n",
       "    <tr>\n",
       "      <th>2</th>\n",
       "      <td>Data Analyst</td>\n",
       "      <td>Bangalore/Bengaluru</td>\n",
       "      <td>Shell Pvt Ltd</td>\n",
       "      <td>3-5 Yrs</td>\n",
       "    </tr>\n",
       "    <tr>\n",
       "      <th>3</th>\n",
       "      <td>Data Analyst</td>\n",
       "      <td>Bangalore/Bengaluru</td>\n",
       "      <td>Shell Pvt Ltd</td>\n",
       "      <td>2-5 Yrs</td>\n",
       "    </tr>\n",
       "    <tr>\n",
       "      <th>4</th>\n",
       "      <td>Data Analyst</td>\n",
       "      <td>Bangalore/Bengaluru</td>\n",
       "      <td>ANZ</td>\n",
       "      <td>1-4 Yrs</td>\n",
       "    </tr>\n",
       "    <tr>\n",
       "      <th>5</th>\n",
       "      <td>Data Analyst</td>\n",
       "      <td>Bangalore/Bengaluru</td>\n",
       "      <td>ANZ</td>\n",
       "      <td>1-5 Yrs</td>\n",
       "    </tr>\n",
       "    <tr>\n",
       "      <th>6</th>\n",
       "      <td>Sr. Data Analyst</td>\n",
       "      <td>Bangalore/Bengaluru</td>\n",
       "      <td>MM STAFFING CAREER CONSULTANTS PRIVATE LIMITED</td>\n",
       "      <td>5-8 Yrs</td>\n",
       "    </tr>\n",
       "    <tr>\n",
       "      <th>7</th>\n",
       "      <td>Senior Data Analyst | Neiman Marcus Group</td>\n",
       "      <td>Bangalore/Bengaluru</td>\n",
       "      <td>Talent500</td>\n",
       "      <td>6-11 Yrs</td>\n",
       "    </tr>\n",
       "    <tr>\n",
       "      <th>8</th>\n",
       "      <td>Senior Data Analyst II</td>\n",
       "      <td>Bangalore/Bengaluru</td>\n",
       "      <td>Flipkart</td>\n",
       "      <td>2-4 Yrs</td>\n",
       "    </tr>\n",
       "    <tr>\n",
       "      <th>9</th>\n",
       "      <td>Senior Data Management Analyst</td>\n",
       "      <td>Bangalore/Bengaluru</td>\n",
       "      <td>Wells Fargo</td>\n",
       "      <td>1-12 Yrs</td>\n",
       "    </tr>\n",
       "  </tbody>\n",
       "</table>\n",
       "</div>"
      ],
      "text/plain": [
       "                                        Job_title         Job_Location  \\\n",
       "0  Associate Healthcare Research and Data Analyst  Bangalore/Bengaluru   \n",
       "1                                    Data Analyst  Bangalore/Bengaluru   \n",
       "2                                    Data Analyst  Bangalore/Bengaluru   \n",
       "3                                    Data Analyst  Bangalore/Bengaluru   \n",
       "4                                    Data Analyst  Bangalore/Bengaluru   \n",
       "5                                    Data Analyst  Bangalore/Bengaluru   \n",
       "6                                Sr. Data Analyst  Bangalore/Bengaluru   \n",
       "7       Senior Data Analyst | Neiman Marcus Group  Bangalore/Bengaluru   \n",
       "8                          Senior Data Analyst II  Bangalore/Bengaluru   \n",
       "9                  Senior Data Management Analyst  Bangalore/Bengaluru   \n",
       "\n",
       "                                     Company_Name Exp_required  \n",
       "0                                       Clarivate      0-2 Yrs  \n",
       "1                                   Shell Pvt Ltd      2-5 Yrs  \n",
       "2                                   Shell Pvt Ltd      3-5 Yrs  \n",
       "3                                   Shell Pvt Ltd      2-5 Yrs  \n",
       "4                                             ANZ      1-4 Yrs  \n",
       "5                                             ANZ      1-5 Yrs  \n",
       "6  MM STAFFING CAREER CONSULTANTS PRIVATE LIMITED      5-8 Yrs  \n",
       "7                                       Talent500     6-11 Yrs  \n",
       "8                                        Flipkart      2-4 Yrs  \n",
       "9                                     Wells Fargo     1-12 Yrs  "
      ]
     },
     "execution_count": 22,
     "metadata": {},
     "output_type": "execute_result"
    }
   ],
   "source": [
    "#Creating a Dataframe\n",
    "df=pd.DataFrame({\"Job_title\":job_title,\"Job_Location\":job_location,\"Company_Name\":company_name,\"Exp_required\":experience_required})\n",
    "df"
   ]
  },
  {
   "cell_type": "markdown",
   "id": "df6f1c22",
   "metadata": {},
   "source": [
    "# ANSWER NO-2"
   ]
  },
  {
   "cell_type": "code",
   "execution_count": 23,
   "id": "ae17cee4",
   "metadata": {},
   "outputs": [],
   "source": [
    "import selenium\n",
    "import pandas as pd\n",
    "from selenium import webdriver\n",
    "import warnings\n",
    "warnings.filterwarnings('ignore')\n",
    "from selenium.webdriver.common.by import By\n",
    "import time"
   ]
  },
  {
   "cell_type": "code",
   "execution_count": 27,
   "id": "84368d1c",
   "metadata": {},
   "outputs": [],
   "source": [
    "#connect to the webdriver\n",
    "driver=webdriver.Chrome(r\"chromedriver.exe\")"
   ]
  },
  {
   "cell_type": "code",
   "execution_count": 28,
   "id": "eb976c35",
   "metadata": {},
   "outputs": [],
   "source": [
    "driver.get(\"https://www.naukri.com/\")"
   ]
  },
  {
   "cell_type": "code",
   "execution_count": 30,
   "id": "e6b053c7",
   "metadata": {},
   "outputs": [],
   "source": [
    "#enter job designation and location\n",
    "designation=driver.find_element(By.CLASS_NAME,\"suggestor-input\")\n",
    "designation.send_keys('Data Scientist')\n"
   ]
  },
  {
   "cell_type": "code",
   "execution_count": 31,
   "id": "af868e3c",
   "metadata": {},
   "outputs": [],
   "source": [
    "location=driver.find_element(By.XPATH,\"/html/body/div[1]/div[6]/div/div/div[5]/div/div/div/input\")\n",
    "location.send_keys('Banglore')"
   ]
  },
  {
   "cell_type": "code",
   "execution_count": 32,
   "id": "ae4790d7",
   "metadata": {},
   "outputs": [],
   "source": [
    "search=driver.find_element(By.CLASS_NAME,\"qsbSubmit\")\n",
    "search.click()"
   ]
  },
  {
   "cell_type": "code",
   "execution_count": 33,
   "id": "52837bc6",
   "metadata": {},
   "outputs": [],
   "source": [
    "job_title=[]\n",
    "job_location=[]\n",
    "company_name=[]"
   ]
  },
  {
   "cell_type": "code",
   "execution_count": 34,
   "id": "b995eb47",
   "metadata": {},
   "outputs": [],
   "source": [
    "title_tags=driver.find_elements(By.XPATH,\"//a[@class='title fw500 ellipsis']\")\n",
    "for i in title_tags[0:10]:\n",
    "    title=i.text\n",
    "    job_title.append(title)"
   ]
  },
  {
   "cell_type": "code",
   "execution_count": 37,
   "id": "efb794fd",
   "metadata": {},
   "outputs": [],
   "source": [
    "location_tags=driver.find_elements(By.XPATH,\"//li[@class='fleft grey-text br2 placeHolderLi location']\")\n",
    "for i in location_tags[0:10]:\n",
    "    location=i.text\n",
    "    job_location.append(location)"
   ]
  },
  {
   "cell_type": "code",
   "execution_count": 39,
   "id": "ef1429eb",
   "metadata": {},
   "outputs": [],
   "source": [
    "company_tags=driver.find_elements(By.XPATH,\"//a[@class='subTitle ellipsis fleft']\")\n",
    "for i in company_tags[0:10]:\n",
    "    company=i.text\n",
    "    company_name.append(company)"
   ]
  },
  {
   "cell_type": "code",
   "execution_count": 40,
   "id": "0c2714ca",
   "metadata": {},
   "outputs": [
    {
     "data": {
      "text/html": [
       "<div>\n",
       "<style scoped>\n",
       "    .dataframe tbody tr th:only-of-type {\n",
       "        vertical-align: middle;\n",
       "    }\n",
       "\n",
       "    .dataframe tbody tr th {\n",
       "        vertical-align: top;\n",
       "    }\n",
       "\n",
       "    .dataframe thead th {\n",
       "        text-align: right;\n",
       "    }\n",
       "</style>\n",
       "<table border=\"1\" class=\"dataframe\">\n",
       "  <thead>\n",
       "    <tr style=\"text-align: right;\">\n",
       "      <th></th>\n",
       "      <th>Job_title</th>\n",
       "      <th>Job_Location</th>\n",
       "      <th>Company_Name</th>\n",
       "    </tr>\n",
       "  </thead>\n",
       "  <tbody>\n",
       "    <tr>\n",
       "      <th>0</th>\n",
       "      <td>Analystics &amp; Modeling Specialist</td>\n",
       "      <td>Kolkata, Mumbai, Hyderabad/Secunderabad, Pune,...</td>\n",
       "      <td>Accenture</td>\n",
       "    </tr>\n",
       "    <tr>\n",
       "      <th>1</th>\n",
       "      <td>Data Scientist</td>\n",
       "      <td>New Delhi, Hyderabad/Secunderabad, Pune, Ahmed...</td>\n",
       "      <td>Tata Nexarc</td>\n",
       "    </tr>\n",
       "    <tr>\n",
       "      <th>2</th>\n",
       "      <td>Data Scientist</td>\n",
       "      <td>Nagpur, Pune, Bangalore/Bengaluru</td>\n",
       "      <td>Tech Mahindra</td>\n",
       "    </tr>\n",
       "    <tr>\n",
       "      <th>3</th>\n",
       "      <td>Data Scientist / AI-ML Engineer</td>\n",
       "      <td>Bangalore/Bengaluru</td>\n",
       "      <td>Hitachi Ltd.</td>\n",
       "    </tr>\n",
       "    <tr>\n",
       "      <th>4</th>\n",
       "      <td>Manager-Data Science</td>\n",
       "      <td>Bangalore/Bengaluru</td>\n",
       "      <td>AMERICAN EXPRESS</td>\n",
       "    </tr>\n",
       "    <tr>\n",
       "      <th>5</th>\n",
       "      <td>ACN - Applied Intelligence - Data Scientist - 09</td>\n",
       "      <td>Bangalore/Bengaluru</td>\n",
       "      <td>Accenture</td>\n",
       "    </tr>\n",
       "    <tr>\n",
       "      <th>6</th>\n",
       "      <td>Data Scientist</td>\n",
       "      <td>Hybrid - Noida, Kolkata, Hyderabad/Secunderaba...</td>\n",
       "      <td>Mindtree</td>\n",
       "    </tr>\n",
       "    <tr>\n",
       "      <th>7</th>\n",
       "      <td>Data Scientist - II</td>\n",
       "      <td>India, Bangalore/Bengaluru, Mumbai (All Areas)</td>\n",
       "      <td>Bizongo</td>\n",
       "    </tr>\n",
       "    <tr>\n",
       "      <th>8</th>\n",
       "      <td>Senior Data Scientist</td>\n",
       "      <td>Mumbai, Bangalore/Bengaluru</td>\n",
       "      <td>Baker Hughes</td>\n",
       "    </tr>\n",
       "    <tr>\n",
       "      <th>9</th>\n",
       "      <td>Data Science - Engineering Manager</td>\n",
       "      <td>New Delhi, Bangalore/Bengaluru</td>\n",
       "      <td>Paytm</td>\n",
       "    </tr>\n",
       "  </tbody>\n",
       "</table>\n",
       "</div>"
      ],
      "text/plain": [
       "                                          Job_title  \\\n",
       "0                  Analystics & Modeling Specialist   \n",
       "1                                    Data Scientist   \n",
       "2                                    Data Scientist   \n",
       "3                   Data Scientist / AI-ML Engineer   \n",
       "4                              Manager-Data Science   \n",
       "5  ACN - Applied Intelligence - Data Scientist - 09   \n",
       "6                                    Data Scientist   \n",
       "7                               Data Scientist - II   \n",
       "8                             Senior Data Scientist   \n",
       "9                Data Science - Engineering Manager   \n",
       "\n",
       "                                        Job_Location      Company_Name  \n",
       "0  Kolkata, Mumbai, Hyderabad/Secunderabad, Pune,...         Accenture  \n",
       "1  New Delhi, Hyderabad/Secunderabad, Pune, Ahmed...       Tata Nexarc  \n",
       "2                  Nagpur, Pune, Bangalore/Bengaluru     Tech Mahindra  \n",
       "3                                Bangalore/Bengaluru      Hitachi Ltd.  \n",
       "4                                Bangalore/Bengaluru  AMERICAN EXPRESS  \n",
       "5                                Bangalore/Bengaluru         Accenture  \n",
       "6  Hybrid - Noida, Kolkata, Hyderabad/Secunderaba...          Mindtree  \n",
       "7     India, Bangalore/Bengaluru, Mumbai (All Areas)           Bizongo  \n",
       "8                        Mumbai, Bangalore/Bengaluru      Baker Hughes  \n",
       "9                     New Delhi, Bangalore/Bengaluru             Paytm  "
      ]
     },
     "execution_count": 40,
     "metadata": {},
     "output_type": "execute_result"
    }
   ],
   "source": [
    "#creating DataFrame\n",
    "df=pd.DataFrame({\"Job_title\":job_title,\"Job_Location\":job_location,\"Company_Name\":company_name})\n",
    "df\n"
   ]
  },
  {
   "cell_type": "markdown",
   "id": "a4d5657e",
   "metadata": {},
   "source": [
    "# ANSWER NO-3"
   ]
  },
  {
   "cell_type": "markdown",
   "id": "b1be0358",
   "metadata": {},
   "source": [
    "#scrape data for\"Data scientist\" ,job location:\"Delhi/NCR\",salary filter:\"3-6\"lakhs"
   ]
  },
  {
   "cell_type": "code",
   "execution_count": 4,
   "id": "c20c61ac",
   "metadata": {},
   "outputs": [],
   "source": [
    "import selenium\n",
    "import pandas as pd\n",
    "from selenium import webdriver\n",
    "import warnings\n",
    "warnings.filterwarnings('ignore')\n",
    "from selenium.webdriver.common.by import By\n",
    "import time"
   ]
  },
  {
   "cell_type": "code",
   "execution_count": 49,
   "id": "619ca95e",
   "metadata": {},
   "outputs": [],
   "source": [
    "driver=webdriver.Chrome(r\"chromedriver.exe\")"
   ]
  },
  {
   "cell_type": "code",
   "execution_count": 50,
   "id": "a97b2fd2",
   "metadata": {},
   "outputs": [],
   "source": [
    "driver.get(\"https://www.naukri.com/\")"
   ]
  },
  {
   "cell_type": "code",
   "execution_count": 51,
   "id": "424398ec",
   "metadata": {},
   "outputs": [],
   "source": [
    "designation=driver.find_element(By.CLASS_NAME,\"suggestor-input\")\n",
    "designation.send_keys('Data Scientist')"
   ]
  },
  {
   "cell_type": "code",
   "execution_count": 53,
   "id": "ce9be46f",
   "metadata": {},
   "outputs": [],
   "source": [
    "location=driver.find_element(By.XPATH,\"/html/body/div[1]/div[6]/div/div/div[5]/div/div/div/input\")\n",
    "location.send_keys(\"Delhi/NCR\")"
   ]
  },
  {
   "cell_type": "code",
   "execution_count": 54,
   "id": "55817a8e",
   "metadata": {},
   "outputs": [],
   "source": [
    "search=driver.find_element(By.CLASS_NAME,\"qsbSubmit\")\n",
    "search.click()"
   ]
  },
  {
   "cell_type": "code",
   "execution_count": 55,
   "id": "077c388c",
   "metadata": {},
   "outputs": [],
   "source": [
    "job_title=[]\n",
    "job_location=[]\n",
    "company_name=[]\n",
    "experience_required=[]"
   ]
  },
  {
   "cell_type": "code",
   "execution_count": 56,
   "id": "c642f3b1",
   "metadata": {},
   "outputs": [],
   "source": [
    "#scrape job title\n",
    "title_tags=driver.find_elements(By.XPATH,\"//a[@class='title fw500 ellipsis']\")\n",
    "for i in title_tags[0:10]:\n",
    "    title=i.text\n",
    "    job_title.append(title)"
   ]
  },
  {
   "cell_type": "code",
   "execution_count": 57,
   "id": "dfc67c91",
   "metadata": {},
   "outputs": [],
   "source": [
    "#scrape job location\n",
    "location_tags=driver.find_elements(By.XPATH,\"//li[@class='fleft grey-text br2 placeHolderLi location']\")\n",
    "for i in location_tags[0:10]:\n",
    "    location=i.text\n",
    "    job_location.append(location)"
   ]
  },
  {
   "cell_type": "code",
   "execution_count": 58,
   "id": "a1ac5733",
   "metadata": {},
   "outputs": [],
   "source": [
    "#scrape company name\n",
    "company_tags=driver.find_elements(By.XPATH,\"//a[@class='subTitle ellipsis fleft']\")\n",
    "for i in company_tags[0:10]:\n",
    "    company=i.text\n",
    "    company_name.append(company)"
   ]
  },
  {
   "cell_type": "code",
   "execution_count": 59,
   "id": "61e00f04",
   "metadata": {},
   "outputs": [],
   "source": [
    "#scrape job experience\n",
    "experience_tags=driver.find_elements(By.XPATH,\"//li[@class='fleft grey-text br2 placeHolderLi experience']//span\")\n",
    "for i in experience_tags[0:10]:\n",
    "    exp=i.text\n",
    "    experience_required.append(exp)"
   ]
  },
  {
   "cell_type": "code",
   "execution_count": 60,
   "id": "486628ba",
   "metadata": {},
   "outputs": [
    {
     "data": {
      "text/html": [
       "<div>\n",
       "<style scoped>\n",
       "    .dataframe tbody tr th:only-of-type {\n",
       "        vertical-align: middle;\n",
       "    }\n",
       "\n",
       "    .dataframe tbody tr th {\n",
       "        vertical-align: top;\n",
       "    }\n",
       "\n",
       "    .dataframe thead th {\n",
       "        text-align: right;\n",
       "    }\n",
       "</style>\n",
       "<table border=\"1\" class=\"dataframe\">\n",
       "  <thead>\n",
       "    <tr style=\"text-align: right;\">\n",
       "      <th></th>\n",
       "      <th>Job_Title</th>\n",
       "      <th>Job_location</th>\n",
       "      <th>Company_name</th>\n",
       "      <th>Exp_required</th>\n",
       "    </tr>\n",
       "  </thead>\n",
       "  <tbody>\n",
       "    <tr>\n",
       "      <th>0</th>\n",
       "      <td>Artificial Intelligence/Computer Vision Engine...</td>\n",
       "      <td>Delhi / NCR, Kolkata, Mumbai, Hyderabad/Secund...</td>\n",
       "      <td>Vicara</td>\n",
       "      <td>1-3 Yrs</td>\n",
       "    </tr>\n",
       "    <tr>\n",
       "      <th>1</th>\n",
       "      <td>Data Activation Specialist - Adobe Target</td>\n",
       "      <td>Delhi / NCR, Kolkata, Mumbai, Hyderabad/Secund...</td>\n",
       "      <td>Okda Solutions</td>\n",
       "      <td>7-10 Yrs</td>\n",
       "    </tr>\n",
       "    <tr>\n",
       "      <th>2</th>\n",
       "      <td>Data Scientist - Engine Algorithm</td>\n",
       "      <td>Delhi / NCR, Kolkata, Mumbai, Hyderabad/Secund...</td>\n",
       "      <td>Primo Hiring</td>\n",
       "      <td>1-3 Yrs</td>\n",
       "    </tr>\n",
       "    <tr>\n",
       "      <th>3</th>\n",
       "      <td>Data Scientist</td>\n",
       "      <td>Temp. WFH - Noida</td>\n",
       "      <td>NGI Ventures</td>\n",
       "      <td>1-5 Yrs</td>\n",
       "    </tr>\n",
       "    <tr>\n",
       "      <th>4</th>\n",
       "      <td>Opening For Jr. Data Scientist with Tatras Dat...</td>\n",
       "      <td>Delhi / NCR</td>\n",
       "      <td>Tatras Data Services</td>\n",
       "      <td>2-4 Yrs</td>\n",
       "    </tr>\n",
       "    <tr>\n",
       "      <th>5</th>\n",
       "      <td>Data Scientist</td>\n",
       "      <td>Dehradun, Hyderabad/Secunderabad, Gurgaon/Guru...</td>\n",
       "      <td>torcai digital media</td>\n",
       "      <td>2-7 Yrs</td>\n",
       "    </tr>\n",
       "    <tr>\n",
       "      <th>6</th>\n",
       "      <td>Data Scientist</td>\n",
       "      <td>Gurgaon/Gurugram</td>\n",
       "      <td>Americana Restaurants (india)</td>\n",
       "      <td>3-8 Yrs</td>\n",
       "    </tr>\n",
       "    <tr>\n",
       "      <th>7</th>\n",
       "      <td>URGENT: Data Scientist | Gurugram | 5 Days Wor...</td>\n",
       "      <td>Gurgaon/Gurugram</td>\n",
       "      <td>Digilytics</td>\n",
       "      <td>2-5 Yrs</td>\n",
       "    </tr>\n",
       "    <tr>\n",
       "      <th>8</th>\n",
       "      <td>Data Scientist | Boutique AI and data consulti...</td>\n",
       "      <td>Noida, New Delhi, Gurgaon/Gurugram</td>\n",
       "      <td>unnati</td>\n",
       "      <td>2-7 Yrs</td>\n",
       "    </tr>\n",
       "    <tr>\n",
       "      <th>9</th>\n",
       "      <td>Data Scientist</td>\n",
       "      <td>Noida</td>\n",
       "      <td>Alliance Recruitment Agency</td>\n",
       "      <td>3-4 Yrs</td>\n",
       "    </tr>\n",
       "  </tbody>\n",
       "</table>\n",
       "</div>"
      ],
      "text/plain": [
       "                                           Job_Title  \\\n",
       "0  Artificial Intelligence/Computer Vision Engine...   \n",
       "1          Data Activation Specialist - Adobe Target   \n",
       "2                  Data Scientist - Engine Algorithm   \n",
       "3                                     Data Scientist   \n",
       "4  Opening For Jr. Data Scientist with Tatras Dat...   \n",
       "5                                     Data Scientist   \n",
       "6                                     Data Scientist   \n",
       "7  URGENT: Data Scientist | Gurugram | 5 Days Wor...   \n",
       "8  Data Scientist | Boutique AI and data consulti...   \n",
       "9                                     Data Scientist   \n",
       "\n",
       "                                        Job_location  \\\n",
       "0  Delhi / NCR, Kolkata, Mumbai, Hyderabad/Secund...   \n",
       "1  Delhi / NCR, Kolkata, Mumbai, Hyderabad/Secund...   \n",
       "2  Delhi / NCR, Kolkata, Mumbai, Hyderabad/Secund...   \n",
       "3                                  Temp. WFH - Noida   \n",
       "4                                        Delhi / NCR   \n",
       "5  Dehradun, Hyderabad/Secunderabad, Gurgaon/Guru...   \n",
       "6                                   Gurgaon/Gurugram   \n",
       "7                                   Gurgaon/Gurugram   \n",
       "8                 Noida, New Delhi, Gurgaon/Gurugram   \n",
       "9                                              Noida   \n",
       "\n",
       "                    Company_name Exp_required  \n",
       "0                         Vicara      1-3 Yrs  \n",
       "1                 Okda Solutions     7-10 Yrs  \n",
       "2                   Primo Hiring      1-3 Yrs  \n",
       "3                   NGI Ventures      1-5 Yrs  \n",
       "4           Tatras Data Services      2-4 Yrs  \n",
       "5           torcai digital media      2-7 Yrs  \n",
       "6  Americana Restaurants (india)      3-8 Yrs  \n",
       "7                     Digilytics      2-5 Yrs  \n",
       "8                         unnati      2-7 Yrs  \n",
       "9    Alliance Recruitment Agency      3-4 Yrs  "
      ]
     },
     "execution_count": 60,
     "metadata": {},
     "output_type": "execute_result"
    }
   ],
   "source": [
    "#creating a DataFrame\n",
    "df=pd.DataFrame({\"Job_Title\":job_title,\"Job_location\":job_location,\"Company_name\":company_name,\"Exp_required\":experience_required})\n",
    "df"
   ]
  },
  {
   "cell_type": "markdown",
   "id": "67e0adb7",
   "metadata": {},
   "source": [
    "# ANSWER NO-4"
   ]
  },
  {
   "cell_type": "markdown",
   "id": "3c2c5723",
   "metadata": {},
   "source": [
    "SCRAPE DATA FROM 100 SUNGLASSES ON FLIPKART"
   ]
  },
  {
   "cell_type": "code",
   "execution_count": 10,
   "id": "d6a902fc",
   "metadata": {},
   "outputs": [],
   "source": [
    "driver=webdriver.Chrome(r\"chromedriver.exe\")"
   ]
  },
  {
   "cell_type": "code",
   "execution_count": 11,
   "id": "da7da426",
   "metadata": {},
   "outputs": [],
   "source": [
    "driver.get(\"https://www.flipkart.com/\")"
   ]
  },
  {
   "cell_type": "code",
   "execution_count": 12,
   "id": "8e91bf88",
   "metadata": {},
   "outputs": [],
   "source": [
    "product=driver.find_element(By.CLASS_NAME,\"_3704LK\")\n",
    "product.send_keys('Sunglasses')"
   ]
  },
  {
   "cell_type": "code",
   "execution_count": 13,
   "id": "1c8f8863",
   "metadata": {},
   "outputs": [],
   "source": [
    "search=driver.find_element(By.CLASS_NAME,\"L0Z3Pu\")\n",
    "search.click()"
   ]
  },
  {
   "cell_type": "code",
   "execution_count": 22,
   "id": "5023ebbc",
   "metadata": {},
   "outputs": [],
   "source": [
    "brand_name=[]\n",
    "product_description=[]\n",
    "price=[]"
   ]
  },
  {
   "cell_type": "code",
   "execution_count": 23,
   "id": "be05f331",
   "metadata": {},
   "outputs": [],
   "source": [
    "brand_name=driver.find_elements(By.XPATH,\"//div[@class='_2WkVRV']\")\n",
    "for i in brand_name[0:40]:\n",
    "    brand=i.text\n",
    "    brand_name.append(brand)"
   ]
  },
  {
   "cell_type": "code",
   "execution_count": 24,
   "id": "ae5905c9",
   "metadata": {},
   "outputs": [],
   "source": [
    "product_description=driver.find_elements(By.XPATH,\"//a[@class='IRpwTa']\")\n",
    "for i in product_description[0:40]:\n",
    "    product=i.text\n",
    "    product_description.append(product)"
   ]
  },
  {
   "cell_type": "code",
   "execution_count": 25,
   "id": "78db7727",
   "metadata": {},
   "outputs": [],
   "source": [
    "price=driver.find_elements(By.XPATH,\"//div[@class='_30jeq3']\")\n",
    "for i in price[0:40]:\n",
    "    price.append(price)"
   ]
  },
  {
   "cell_type": "code",
   "execution_count": 26,
   "id": "6750143a",
   "metadata": {},
   "outputs": [
    {
     "data": {
      "text/plain": [
       "80"
      ]
     },
     "execution_count": 26,
     "metadata": {},
     "output_type": "execute_result"
    }
   ],
   "source": [
    "#check the length\n",
    "len(brand_name)"
   ]
  },
  {
   "cell_type": "code",
   "execution_count": 27,
   "id": "378f74ea",
   "metadata": {},
   "outputs": [
    {
     "data": {
      "text/plain": [
       "80"
      ]
     },
     "execution_count": 27,
     "metadata": {},
     "output_type": "execute_result"
    }
   ],
   "source": [
    "len(product_description)"
   ]
  },
  {
   "cell_type": "code",
   "execution_count": 28,
   "id": "f18fc797",
   "metadata": {},
   "outputs": [
    {
     "data": {
      "text/plain": [
       "80"
      ]
     },
     "execution_count": 28,
     "metadata": {},
     "output_type": "execute_result"
    }
   ],
   "source": [
    "len(price)"
   ]
  },
  {
   "cell_type": "code",
   "execution_count": 29,
   "id": "11584179",
   "metadata": {},
   "outputs": [],
   "source": [
    "#FOR EXECUTE NEXT PAGE\n",
    "brand=[]"
   ]
  },
  {
   "cell_type": "code",
   "execution_count": 32,
   "id": "f681c08c",
   "metadata": {},
   "outputs": [],
   "source": [
    "start=0\n",
    "end=2\n",
    "for page in range(start,end):\n",
    "    brand_name=driver.find_elements(By.XPATH,\"//div[@class='_2WkVRV']\")\n",
    "    for i in brand_name[0:40]:\n",
    "        brand_name.append(i.text)\n",
    "    next_button=driver.find_element(By.XPATH,\"//a[@class='_1LKTO3']\")\n",
    "    next_button.click()\n",
    "    time.sleep(3)\n",
    "    "
   ]
  },
  {
   "cell_type": "markdown",
   "id": "663ab561",
   "metadata": {},
   "source": [
    "# ANSWER NO-5"
   ]
  },
  {
   "cell_type": "markdown",
   "id": "6e06aba9",
   "metadata": {},
   "source": [
    "#scrape data from flipkart.com for i phone 11 phone"
   ]
  },
  {
   "cell_type": "code",
   "execution_count": 48,
   "id": "11f1d7f1",
   "metadata": {},
   "outputs": [
    {
     "name": "stdout",
     "output_type": "stream",
     "text": [
      "Defaulting to user installation because normal site-packages is not writeable\n",
      "Requirement already satisfied: bs4 in c:\\users\\neetu\\appdata\\roaming\\python\\python39\\site-packages (0.0.1)\n",
      "Requirement already satisfied: beautifulsoup4 in c:\\programdata\\anaconda3\\lib\\site-packages (from bs4) (4.11.1)\n",
      "Requirement already satisfied: soupsieve>1.2 in c:\\programdata\\anaconda3\\lib\\site-packages (from beautifulsoup4->bs4) (2.3.1)\n"
     ]
    }
   ],
   "source": [
    "!pip install bs4"
   ]
  },
  {
   "cell_type": "code",
   "execution_count": 49,
   "id": "ff8e2b65",
   "metadata": {},
   "outputs": [
    {
     "name": "stdout",
     "output_type": "stream",
     "text": [
      "Defaulting to user installation because normal site-packages is not writeable\n",
      "Requirement already satisfied: requests in c:\\programdata\\anaconda3\\lib\\site-packages (2.27.1)\n",
      "Requirement already satisfied: certifi>=2017.4.17 in c:\\programdata\\anaconda3\\lib\\site-packages (from requests) (2021.10.8)\n",
      "Requirement already satisfied: idna<4,>=2.5 in c:\\programdata\\anaconda3\\lib\\site-packages (from requests) (3.3)\n",
      "Requirement already satisfied: urllib3<1.27,>=1.21.1 in c:\\programdata\\anaconda3\\lib\\site-packages (from requests) (1.26.9)\n",
      "Requirement already satisfied: charset-normalizer~=2.0.0 in c:\\programdata\\anaconda3\\lib\\site-packages (from requests) (2.0.4)\n"
     ]
    }
   ],
   "source": [
    "!pip install requests"
   ]
  },
  {
   "cell_type": "code",
   "execution_count": 78,
   "id": "9abbdce9",
   "metadata": {},
   "outputs": [],
   "source": [
    "from bs4 import BeautifulSoup\n",
    "import requests\n",
    "import csv\n",
    "import pandas as pd\n"
   ]
  },
  {
   "cell_type": "code",
   "execution_count": 79,
   "id": "8f0775f3",
   "metadata": {},
   "outputs": [
    {
     "data": {
      "text/plain": [
       "<Response [404]>"
      ]
     },
     "execution_count": 79,
     "metadata": {},
     "output_type": "execute_result"
    }
   ],
   "source": [
    "page=requests.get(\"https://www.flipkart.com/apple-iphone-11-black-64-gb/\")\n",
    "page\n",
    "                  \n",
    "\n",
    "                  "
   ]
  },
  {
   "cell_type": "code",
   "execution_count": 80,
   "id": "93a37e5a",
   "metadata": {},
   "outputs": [
    {
     "data": {
      "text/plain": [
       "<!DOCTYPE html>\n",
       "<html>\n",
       "<head>\n",
       "<title>Online Shopping India Mobile, Cameras, Lifestyle &amp; more Online @ Flipkart.com</title>\n",
       "<meta content=\"IE=edge\" http-equiv=\"X-UA-Compatible\"/>\n",
       "<meta content=\"width=device-width,minimum-scale=1,user-scalable=no\" name=\"viewport\"/>\n",
       "<style type=\"text/css\">\n",
       "        html,\n",
       "        body {\n",
       "            font-family: Roboto, Arial, sans-serif;\n",
       "            height: 100%;\n",
       "            margin: 0;\n",
       "        }\n",
       "\n",
       "        .button {\n",
       "            background-color: #2874f0;\n",
       "            color: #fff;\n",
       "            padding: 10px 20px;\n",
       "            text-align: center;\n",
       "            box-shadow: 0 2px 4px 0 rgba(0, 0, 0, .2);\n",
       "            cursor: pointer;\n",
       "            font-size: 16px;\n",
       "            margin-top: 25px;\n",
       "            border-radius: 2px;\n",
       "            text-decoration: none;\n",
       "        }\n",
       "    </style>\n",
       "</head>\n",
       "<body>\n",
       "<div style=\"background-color:#2874f0; height:78px; text-align:center;\">\n",
       "<div style=\"width: 100%; margin: 0 auto; padding-top: 2px; text-align:left;\">\n",
       "<div style=\"margin-top: 15px; text-align: center\">\n",
       "<img src=\"http://img1a.flixcart.com/www/linchpin/fk-cp-zion/img/fk-logo_9fddff.png\" style=\"border: none;\" width=\"149\"/>\n",
       "</div>\n",
       "</div>\n",
       "</div>\n",
       "<div style=\"text-align: center; font-size: 14px; padding: 20px;\">\n",
       "<div>\n",
       "<img alt=\"\" id=\"IMG_3\" src=\"https://img1a.flixcart.com/www/linchpin/fk-cp-zion/img/error-500_f9bbb4.png\" style=\"width: 450px; max-width: 100%;\"/>\n",
       "<div style=\"font-size: 1.3em; padding-top: 10px; margin-bottom: 35px\">Unfortunately the page you are looking\n",
       "                for has been moved or deleted</div>\n",
       "<a class=\"button\" href=\"/\">GO TO HOMEPAGE</a>\n",
       "</div>\n",
       "</div>\n",
       "</body>\n",
       "</html>"
      ]
     },
     "execution_count": 80,
     "metadata": {},
     "output_type": "execute_result"
    }
   ],
   "source": [
    "soup=BeautifulSoup(page.content)\n",
    "soup"
   ]
  },
  {
   "cell_type": "code",
   "execution_count": 83,
   "id": "d81fad0f",
   "metadata": {},
   "outputs": [],
   "source": [
    "\n",
    "rating=[]\n",
    "review_summary=[]\n",
    "full_review=[]\n",
    "product=soup.find('div',attrs={'class':'_4rR01T'})\n"
   ]
  },
  {
   "cell_type": "code",
   "execution_count": 84,
   "id": "5ebb1ef5",
   "metadata": {},
   "outputs": [],
   "source": [
    "for a in soup.findAll('a',href=True,attrs={'class':'_1fQZEK'}):\n",
    "    rating=a.find('div',attrs={'class':'_3LWZlK'})\n",
    "    review_summary=a.find('div',attrs={'class':'_2-N8zT'})\n",
    "    full_review=a.find('div',attrs={'class':'t-ZTKy'})\n",
    "    rating.append(rating.text)\n",
    "    review_summary.append(review_summary.text)\n",
    "    full_review.append(full_review.text)\n"
   ]
  },
  {
   "cell_type": "markdown",
   "id": "d8efb9a2",
   "metadata": {},
   "source": [
    "# Answer no-7"
   ]
  },
  {
   "cell_type": "markdown",
   "id": "9bef2df4",
   "metadata": {},
   "source": [
    "scrap data of laptop from amazon.in"
   ]
  },
  {
   "cell_type": "code",
   "execution_count": 86,
   "id": "46eae5ae",
   "metadata": {},
   "outputs": [],
   "source": [
    "import selenium\n",
    "import pandas as pd\n",
    "from selenium import webdriver\n",
    "import warnings\n",
    "warnings.filterwarnings('ignore')\n",
    "from selenium.webdriver.common.by import By\n",
    "import time"
   ]
  },
  {
   "cell_type": "code",
   "execution_count": 87,
   "id": "72e93970",
   "metadata": {},
   "outputs": [],
   "source": [
    "driver=webdriver.Chrome(r\"chromedriver.exe\")"
   ]
  },
  {
   "cell_type": "code",
   "execution_count": 88,
   "id": "2c88de17",
   "metadata": {},
   "outputs": [],
   "source": [
    "driver.get(\"https://www.amazon.in/\")"
   ]
  },
  {
   "cell_type": "code",
   "execution_count": 89,
   "id": "3fbd24e1",
   "metadata": {},
   "outputs": [],
   "source": [
    "title=[]\n",
    "rating=[]\n",
    "price=[]\n"
   ]
  },
  {
   "cell_type": "code",
   "execution_count": 91,
   "id": "838b11fa",
   "metadata": {},
   "outputs": [],
   "source": [
    "title_tags=driver.find_elements(By.XPATH,\"//h2[@class='a-size-mini a-spacing-none a-color-base s-line-clamp-2']\")\n",
    "for i in title_tags[0:10]:\n",
    "    title=i.text\n",
    "    title_tags.append(title)"
   ]
  },
  {
   "cell_type": "code",
   "execution_count": 93,
   "id": "53facdbb",
   "metadata": {},
   "outputs": [],
   "source": [
    "rating_tags=driver.find_elements(By.XPATH,\"//i[@class='a-icon a-icon-star-small a-star-small-4 aok-align-bottom']\")\n",
    "for i in rating_tags[0:10]:\n",
    "    rating=i.text\n",
    "    rating_tags.append(rating)"
   ]
  },
  {
   "cell_type": "code",
   "execution_count": 94,
   "id": "cdb1270a",
   "metadata": {},
   "outputs": [],
   "source": [
    "price_tags=driver.find_elements(By.XPATH,\"/span[@class='a-price-whole']\")\n",
    "for i in price_tags[0:10]:\n",
    "    price=i.text\n",
    "    price_tags.append(price)"
   ]
  },
  {
   "cell_type": "markdown",
   "id": "3874209b",
   "metadata": {},
   "source": [
    "# ANSWER NO-8"
   ]
  },
  {
   "cell_type": "markdown",
   "id": "47df82cd",
   "metadata": {},
   "source": [
    "# SCRAPE DATA FOR 1000 QUOTES"
   ]
  },
  {
   "cell_type": "code",
   "execution_count": 4,
   "id": "5d063ca7",
   "metadata": {},
   "outputs": [],
   "source": [
    "#import the libraries\n",
    "from bs4 import BeautifulSoup\n",
    "import pandas as pd\n",
    "import requests\n",
    "import urllib.request"
   ]
  },
  {
   "cell_type": "code",
   "execution_count": 6,
   "id": "f08c55ee",
   "metadata": {},
   "outputs": [],
   "source": [
    "#create loist to store the scraped data\n",
    "quotes=[]\n",
    "authors=[]\n",
    "type_of_quotes=[]"
   ]
  },
  {
   "cell_type": "code",
   "execution_count": 42,
   "id": "7046eb53",
   "metadata": {},
   "outputs": [],
   "source": [
    "URL='https://www.azquotes.com/'\n",
    "webpage=requests.get(URL)\n",
    "soup=BeautifulSoup(webpage.text,'html.parser')\n",
    "quoteText=soup.find_all('a',attrs={'class':'title'})\n"
   ]
  },
  {
   "cell_type": "code",
   "execution_count": 43,
   "id": "580090af",
   "metadata": {},
   "outputs": [
    {
     "data": {
      "text/plain": [
       "[<a class=\"title\" href=\"/quote/53034\">We think too much and feel too little.</a>,\n",
       " <a class=\"title\" href=\"/quote/249560\">You must take personal responsibility. You cannot change the circumstances, the seasons, or the wind, but you can change yourself. That is something you have charge of.</a>,\n",
       " <a class=\"title\" href=\"/quote/298617\">A man's character may be learned from the adjectives which he habitually uses in conversation.</a>,\n",
       " <a class=\"title\" href=\"/quote/343888\">You are the average of the five people you spend the most time with.</a>,\n",
       " <a class=\"title\" href=\"/quote/348513\">The miracle isn't that I finished. The miracle is that I had the courage to start.</a>,\n",
       " <a class=\"title\" href=\"/quote/365890\">Writing is not life, but I think that sometimes it can be a way back to life.</a>,\n",
       " <a class=\"title\" href=\"/quote/518122\">Define success on your own terms, achieve it by your own rules, and build a life you're proud to live.</a>,\n",
       " <a class=\"title\" href=\"/quote/608021\">Earthly riches are like the reed. Its roots are sunk in the swamp, and its exterior is fair to behold; but inside it is hollow. If a man leans on such a reed, it will snap off and pierce his soul.</a>,\n",
       " <a class=\"title\" href=\"/quote/622805\">I actually feel that women in my position, when we have all at our disposal to help us, shouldn't complain when we consider all of the people who are really struggling, who don't have the financial means, who don't have the support, and so many people are single raising children - that's hard.</a>,\n",
       " <a class=\"title\" href=\"/quote/762306\">I stop wanting what I am looking for, looking for it.</a>]"
      ]
     },
     "execution_count": 43,
     "metadata": {},
     "output_type": "execute_result"
    }
   ],
   "source": [
    "quoteText"
   ]
  },
  {
   "cell_type": "code",
   "execution_count": 44,
   "id": "49aa875b",
   "metadata": {},
   "outputs": [
    {
     "name": "stdout",
     "output_type": "stream",
     "text": [
      "['We think too much and feel too little.']\n",
      "['You must take personal responsibility. You cannot change the circumstances, the seasons, or the wind, but you can change yourself. That is something you have charge of.']\n",
      "[\"A man's character may be learned from the adjectives which he habitually uses in conversation.\"]\n",
      "['You are the average of the five people you spend the most time with.']\n",
      "[\"The miracle isn't that I finished. The miracle is that I had the courage to start.\"]\n",
      "['Writing is not life, but I think that sometimes it can be a way back to life.']\n",
      "[\"Define success on your own terms, achieve it by your own rules, and build a life you're proud to live.\"]\n",
      "['Earthly riches are like the reed. Its roots are sunk in the swamp, and its exterior is fair to behold; but inside it is hollow. If a man leans on such a reed, it will snap off and pierce his soul.']\n",
      "[\"I actually feel that women in my position, when we have all at our disposal to help us, shouldn't complain when we consider all of the people who are really struggling, who don't have the financial means, who don't have the support, and so many people are single raising children - that's hard.\"]\n",
      "['I stop wanting what I am looking for, looking for it.']\n"
     ]
    }
   ],
   "source": [
    "for i in quoteText:\n",
    "    print(i.text.strip().split('\\n'))"
   ]
  },
  {
   "cell_type": "code",
   "execution_count": 45,
   "id": "0aeeaf3d",
   "metadata": {},
   "outputs": [],
   "source": [
    "def scrape_website(page_number):\n",
    "    page_num=str(page_number)\n",
    "    URL='https://www.azquotes.com/'+page_num\n",
    "    webpage=requests.get(URL)\n",
    "    soup=BeautifulSoup(webpage.text,'html.parser')\n",
    "    quoteText=soup.find_all('a',attrs={'class':'title'})\n",
    "    \n"
   ]
  },
  {
   "cell_type": "code",
   "execution_count": 62,
   "id": "efdb1b68",
   "metadata": {},
   "outputs": [],
   "source": [
    "for i in quoteText:\n",
    "    quote=i.text.strip().split('\\n')[0]\n",
    "    author=i.find('a',attrs={'class':'/author/11790-Michael_Porter'})\n",
    "\n",
    "    quotes.append(quote)\n",
    "    authors.append(author)"
   ]
  },
  {
   "cell_type": "code",
   "execution_count": 47,
   "id": "8ed2307f",
   "metadata": {},
   "outputs": [],
   "source": [
    "scrape_website(1)"
   ]
  },
  {
   "cell_type": "code",
   "execution_count": 48,
   "id": "7203b077",
   "metadata": {},
   "outputs": [
    {
     "data": {
      "text/plain": [
       "['We think too much and feel too little.',\n",
       " 'You must take personal responsibility. You cannot change the circumstances, the seasons, or the wind, but you can change yourself. That is something you have charge of.',\n",
       " \"A man's character may be learned from the adjectives which he habitually uses in conversation.\",\n",
       " 'You are the average of the five people you spend the most time with.',\n",
       " \"The miracle isn't that I finished. The miracle is that I had the courage to start.\",\n",
       " 'Writing is not life, but I think that sometimes it can be a way back to life.',\n",
       " \"Define success on your own terms, achieve it by your own rules, and build a life you're proud to live.\",\n",
       " 'Earthly riches are like the reed. Its roots are sunk in the swamp, and its exterior is fair to behold; but inside it is hollow. If a man leans on such a reed, it will snap off and pierce his soul.',\n",
       " \"I actually feel that women in my position, when we have all at our disposal to help us, shouldn't complain when we consider all of the people who are really struggling, who don't have the financial means, who don't have the support, and so many people are single raising children - that's hard.\",\n",
       " 'I stop wanting what I am looking for, looking for it.',\n",
       " 'We think too much and feel too little.',\n",
       " 'You must take personal responsibility. You cannot change the circumstances, the seasons, or the wind, but you can change yourself. That is something you have charge of.',\n",
       " \"A man's character may be learned from the adjectives which he habitually uses in conversation.\",\n",
       " 'You are the average of the five people you spend the most time with.',\n",
       " \"The miracle isn't that I finished. The miracle is that I had the courage to start.\",\n",
       " 'Writing is not life, but I think that sometimes it can be a way back to life.',\n",
       " \"Define success on your own terms, achieve it by your own rules, and build a life you're proud to live.\",\n",
       " 'Earthly riches are like the reed. Its roots are sunk in the swamp, and its exterior is fair to behold; but inside it is hollow. If a man leans on such a reed, it will snap off and pierce his soul.',\n",
       " \"I actually feel that women in my position, when we have all at our disposal to help us, shouldn't complain when we consider all of the people who are really struggling, who don't have the financial means, who don't have the support, and so many people are single raising children - that's hard.\",\n",
       " 'I stop wanting what I am looking for, looking for it.',\n",
       " 'We think too much and feel too little.',\n",
       " 'You must take personal responsibility. You cannot change the circumstances, the seasons, or the wind, but you can change yourself. That is something you have charge of.',\n",
       " \"A man's character may be learned from the adjectives which he habitually uses in conversation.\",\n",
       " 'You are the average of the five people you spend the most time with.',\n",
       " \"The miracle isn't that I finished. The miracle is that I had the courage to start.\",\n",
       " 'Writing is not life, but I think that sometimes it can be a way back to life.',\n",
       " \"Define success on your own terms, achieve it by your own rules, and build a life you're proud to live.\",\n",
       " 'Earthly riches are like the reed. Its roots are sunk in the swamp, and its exterior is fair to behold; but inside it is hollow. If a man leans on such a reed, it will snap off and pierce his soul.',\n",
       " \"I actually feel that women in my position, when we have all at our disposal to help us, shouldn't complain when we consider all of the people who are really struggling, who don't have the financial means, who don't have the support, and so many people are single raising children - that's hard.\",\n",
       " 'I stop wanting what I am looking for, looking for it.',\n",
       " 'We think too much and feel too little.',\n",
       " 'You must take personal responsibility. You cannot change the circumstances, the seasons, or the wind, but you can change yourself. That is something you have charge of.',\n",
       " \"A man's character may be learned from the adjectives which he habitually uses in conversation.\",\n",
       " 'You are the average of the five people you spend the most time with.',\n",
       " \"The miracle isn't that I finished. The miracle is that I had the courage to start.\",\n",
       " 'Writing is not life, but I think that sometimes it can be a way back to life.',\n",
       " \"Define success on your own terms, achieve it by your own rules, and build a life you're proud to live.\",\n",
       " 'Earthly riches are like the reed. Its roots are sunk in the swamp, and its exterior is fair to behold; but inside it is hollow. If a man leans on such a reed, it will snap off and pierce his soul.',\n",
       " \"I actually feel that women in my position, when we have all at our disposal to help us, shouldn't complain when we consider all of the people who are really struggling, who don't have the financial means, who don't have the support, and so many people are single raising children - that's hard.\",\n",
       " 'I stop wanting what I am looking for, looking for it.',\n",
       " 'We think too much and feel too little.',\n",
       " 'You must take personal responsibility. You cannot change the circumstances, the seasons, or the wind, but you can change yourself. That is something you have charge of.',\n",
       " \"A man's character may be learned from the adjectives which he habitually uses in conversation.\",\n",
       " 'You are the average of the five people you spend the most time with.',\n",
       " \"The miracle isn't that I finished. The miracle is that I had the courage to start.\",\n",
       " 'Writing is not life, but I think that sometimes it can be a way back to life.',\n",
       " \"Define success on your own terms, achieve it by your own rules, and build a life you're proud to live.\",\n",
       " 'Earthly riches are like the reed. Its roots are sunk in the swamp, and its exterior is fair to behold; but inside it is hollow. If a man leans on such a reed, it will snap off and pierce his soul.',\n",
       " \"I actually feel that women in my position, when we have all at our disposal to help us, shouldn't complain when we consider all of the people who are really struggling, who don't have the financial means, who don't have the support, and so many people are single raising children - that's hard.\",\n",
       " 'I stop wanting what I am looking for, looking for it.',\n",
       " 'We think too much and feel too little.',\n",
       " 'You must take personal responsibility. You cannot change the circumstances, the seasons, or the wind, but you can change yourself. That is something you have charge of.',\n",
       " \"A man's character may be learned from the adjectives which he habitually uses in conversation.\",\n",
       " 'You are the average of the five people you spend the most time with.',\n",
       " \"The miracle isn't that I finished. The miracle is that I had the courage to start.\",\n",
       " 'Writing is not life, but I think that sometimes it can be a way back to life.',\n",
       " \"Define success on your own terms, achieve it by your own rules, and build a life you're proud to live.\",\n",
       " 'Earthly riches are like the reed. Its roots are sunk in the swamp, and its exterior is fair to behold; but inside it is hollow. If a man leans on such a reed, it will snap off and pierce his soul.',\n",
       " \"I actually feel that women in my position, when we have all at our disposal to help us, shouldn't complain when we consider all of the people who are really struggling, who don't have the financial means, who don't have the support, and so many people are single raising children - that's hard.\",\n",
       " 'I stop wanting what I am looking for, looking for it.',\n",
       " 'We think too much and feel too little.',\n",
       " 'You must take personal responsibility. You cannot change the circumstances, the seasons, or the wind, but you can change yourself. That is something you have charge of.',\n",
       " \"A man's character may be learned from the adjectives which he habitually uses in conversation.\",\n",
       " 'You are the average of the five people you spend the most time with.',\n",
       " \"The miracle isn't that I finished. The miracle is that I had the courage to start.\",\n",
       " 'Writing is not life, but I think that sometimes it can be a way back to life.',\n",
       " \"Define success on your own terms, achieve it by your own rules, and build a life you're proud to live.\",\n",
       " 'Earthly riches are like the reed. Its roots are sunk in the swamp, and its exterior is fair to behold; but inside it is hollow. If a man leans on such a reed, it will snap off and pierce his soul.',\n",
       " \"I actually feel that women in my position, when we have all at our disposal to help us, shouldn't complain when we consider all of the people who are really struggling, who don't have the financial means, who don't have the support, and so many people are single raising children - that's hard.\",\n",
       " 'I stop wanting what I am looking for, looking for it.']"
      ]
     },
     "execution_count": 48,
     "metadata": {},
     "output_type": "execute_result"
    }
   ],
   "source": [
    "quotes"
   ]
  },
  {
   "cell_type": "markdown",
   "id": "2cec60b6",
   "metadata": {},
   "source": [
    "# ANSWER NO-9"
   ]
  },
  {
   "cell_type": "code",
   "execution_count": 18,
   "id": "bd7b9967",
   "metadata": {},
   "outputs": [],
   "source": [
    "#SCRAPE DATA OF PRIME MINISTER OF INDIA\n",
    "import selenium\n",
    "import pandas as pd\n",
    "from selenium import webdriver\n",
    "import warnings\n",
    "warnings.filterwarnings('ignore')\n",
    "from selenium.webdriver.common.by import By\n",
    "import time\n"
   ]
  },
  {
   "cell_type": "code",
   "execution_count": 35,
   "id": "b12fa29d",
   "metadata": {},
   "outputs": [],
   "source": [
    "from bs4 import BeautifulSoup\n",
    "import pandas as pd\n",
    "import requests\n",
    "import urllib.request"
   ]
  },
  {
   "cell_type": "code",
   "execution_count": 36,
   "id": "94338dd6",
   "metadata": {},
   "outputs": [
    {
     "data": {
      "text/plain": [
       "<Response [200]>"
      ]
     },
     "execution_count": 36,
     "metadata": {},
     "output_type": "execute_result"
    }
   ],
   "source": [
    "page=requests.get('https://www.jagranjosh.com/')\n",
    "page"
   ]
  },
  {
   "cell_type": "code",
   "execution_count": 29,
   "id": "c01d54b9",
   "metadata": {},
   "outputs": [],
   "source": [
    "driver=webdriver.Chrome(r\"chromedriver.exe\")"
   ]
  },
  {
   "cell_type": "code",
   "execution_count": 30,
   "id": "e122fd10",
   "metadata": {},
   "outputs": [],
   "source": [
    "driver.get(\"https://www.jagranjosh.com/\")"
   ]
  },
  {
   "cell_type": "code",
   "execution_count": 37,
   "id": "98ff3540",
   "metadata": {},
   "outputs": [],
   "source": [
    "name=[]\n",
    "born_dead=[]\n",
    "term_of_office=[]\n",
    "remarks=[]"
   ]
  },
  {
   "cell_type": "code",
   "execution_count": 43,
   "id": "39f69211",
   "metadata": {},
   "outputs": [],
   "source": [
    "URL='https://www.jagranjosh.com/'\n",
    "webpage=requests.get(URL)\n",
    "soup=BeautifulSoup(webpage.text,'html.parser')\n",
    "name=soup.find_all('a',attrs={'class':'_blank'})\n"
   ]
  },
  {
   "cell_type": "code",
   "execution_count": 45,
   "id": "7a428c48",
   "metadata": {},
   "outputs": [],
   "source": [
    "URL='https://www.jagranjosh.com/'\n",
    "webpage=requests.get(URL)\n",
    "soup=BeautifulSoup(webpage.text,'html.parser')\n",
    "born_dead=soup.find_all('p',attrs={'class':'(1889–1964)'})\n"
   ]
  },
  {
   "cell_type": "code",
   "execution_count": 47,
   "id": "c99be53e",
   "metadata": {},
   "outputs": [],
   "source": [
    "URL='https://www.jagranjosh.com/'\n",
    "webpage=requests.get(URL)\n",
    "soup=BeautifulSoup(webpage.text,'html.parser')\n",
    "term_of_office=soup.find_all('span',attrs={'class':'15 August 1947 to 27 May 1964'})\n"
   ]
  },
  {
   "cell_type": "code",
   "execution_count": 48,
   "id": "202abb5a",
   "metadata": {},
   "outputs": [],
   "source": [
    "URL='https://www.jagranjosh.com/'\n",
    "webpage=requests.get(URL)\n",
    "soup=BeautifulSoup(webpage.text,'html.parser')\n",
    "remarks=soup.find_all('p',attrs={'class':'<p>'})\n"
   ]
  }
 ],
 "metadata": {
  "kernelspec": {
   "display_name": "Python 3 (ipykernel)",
   "language": "python",
   "name": "python3"
  },
  "language_info": {
   "codemirror_mode": {
    "name": "ipython",
    "version": 3
   },
   "file_extension": ".py",
   "mimetype": "text/x-python",
   "name": "python",
   "nbconvert_exporter": "python",
   "pygments_lexer": "ipython3",
   "version": "3.9.12"
  }
 },
 "nbformat": 4,
 "nbformat_minor": 5
}
